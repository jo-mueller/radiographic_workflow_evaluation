{
 "cells": [
  {
   "cell_type": "markdown",
   "id": "75193e48-f150-4358-9698-d85ac71752cb",
   "metadata": {},
   "source": [
    "# Evaluate planing quality"
   ]
  },
  {
   "cell_type": "code",
   "execution_count": 1,
   "id": "d1b1ad7e-d41f-4724-a930-36b3f468d0f1",
   "metadata": {},
   "outputs": [],
   "source": [
    "import pandas as pd\n",
    "import numpy as np\n",
    "import matplotlib.pyplot as plt\n",
    "import seaborn as sns\n",
    "from scipy import stats\n",
    "from sklearn import metrics\n",
    "\n",
    "import os\n",
    "import re\n",
    "import glob\n",
    "\n",
    "from skimage import io"
   ]
  },
  {
   "cell_type": "code",
   "execution_count": 2,
   "id": "e8807f40-ffee-48ce-81ba-c22b38470118",
   "metadata": {},
   "outputs": [],
   "source": [
    "#root = r'E:\\BiAPoL\\Shared\\BiAPoLprojects\\64_radiographic_workflow\\Registration_user_study'\n",
    "root = r'C:\\Users\\johamuel\\Documents\\BiAPoL\\Shared\\BiAPoLprojects\\64_radiographic_workflow\\Planning_user_study'"
   ]
  },
  {
   "cell_type": "code",
   "execution_count": 3,
   "id": "64c29f34-3a2f-460c-84ae-baabce5347e3",
   "metadata": {},
   "outputs": [],
   "source": [
    "anonymize = False\n",
    "save_figures = True"
   ]
  },
  {
   "cell_type": "code",
   "execution_count": 4,
   "id": "d6e3a12e-2907-41c2-994b-83bfe1be8725",
   "metadata": {},
   "outputs": [
    {
     "data": {
      "text/plain": [
       "['P1_H_B6_M52',\n",
       " 'P1_H_B6_M57',\n",
       " 'P1_H_B6_M61',\n",
       " 'P1_H_C3H_M46',\n",
       " 'P1_H_C3H_M48',\n",
       " 'P1_H_C3H_M54',\n",
       " 'P1_H_C3H_M58',\n",
       " 'P2E_M11',\n",
       " 'P2E_M14',\n",
       " 'P2E_M2']"
      ]
     },
     "execution_count": 4,
     "metadata": {},
     "output_type": "execute_result"
    }
   ],
   "source": [
    "animals = os.listdir(root)\n",
    "animals"
   ]
  },
  {
   "cell_type": "code",
   "execution_count": 5,
   "id": "1dc6d154-1f45-4bc1-8029-bd9c924668e9",
   "metadata": {},
   "outputs": [],
   "source": [
    "animal = 'P1_H_C3H_M54'\n",
    "plan_files = glob.glob(os.path.join(root, animal, '*.tif'))"
   ]
  },
  {
   "cell_type": "code",
   "execution_count": 16,
   "id": "704e5237-53d0-4ecb-8c76-260dfe461727",
   "metadata": {},
   "outputs": [],
   "source": [
    "plans = [io.imread(file)[0] for file in plan_files]\n",
    "plan_stack = np.stack(plans)\n",
    "plan_fused = np.asarray(stats.mode(plan_stack, axis=0))[0].squeeze()"
   ]
  },
  {
   "cell_type": "code",
   "execution_count": 17,
   "id": "6225b0ed-5225-4967-973c-c9dc3073bc81",
   "metadata": {},
   "outputs": [
    {
     "data": {
      "text/plain": [
       "Text(0.5, 1.0, 'Fusion')"
      ]
     },
     "execution_count": 17,
     "metadata": {},
     "output_type": "execute_result"
    },
    {
     "data": {
      "image/png": "[encoded data removed]",
      "text/plain": [
       "<Figure size 1080x720 with 3 Axes>"
      ]
     },
     "metadata": {
      "needs_background": "light"
     },
     "output_type": "display_data"
    }
   ],
   "source": [
    "fig, ax = plt.subplots(ncols = len(plans)+1, figsize = (15, 10))\n",
    "[ax[i].imshow(plan) for i, plan in enumerate(plans)]\n",
    "[ax[i].set_title(f'Observer_{i}') for i in range(len(plans))]\n",
    "ax[-1].imshow(plan_fused)\n",
    "ax[-1].set_title('Fusion')"
   ]
  },
  {
   "cell_type": "code",
   "execution_count": 18,
   "id": "5add973f-35a6-4641-9f62-2fad32cff9f4",
   "metadata": {},
   "outputs": [
    {
     "name": "stdout",
     "output_type": "stream",
     "text": [
      "[0.99979732 0.9884474  0.95913734]\n",
      "[0.99682471 0.90541199 0.88296761]\n"
     ]
    }
   ],
   "source": [
    "# Label-wise jaccard score\n",
    "for plan in plans:\n",
    "    JC = metrics.jaccard_score(plan_fused.flatten(), plan.flatten(), average=None)\n",
    "    print(JC)"
   ]
  }
 ],
 "metadata": {
  "kernelspec": {
   "display_name": "Python 3 (ipykernel)",
   "language": "python",
   "name": "python3"
  },
  "language_info": {
   "codemirror_mode": {
    "name": "ipython",
    "version": 3
   },
   "file_extension": ".py",
   "mimetype": "text/x-python",
   "name": "python",
   "nbconvert_exporter": "python",
   "pygments_lexer": "ipython3",
   "version": "3.9.12"
  }
 },
 "nbformat": 4,
 "nbformat_minor": 5
}
