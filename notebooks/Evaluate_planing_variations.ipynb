{
 "cells": [
  {
   "cell_type": "markdown",
   "id": "75193e48-f150-4358-9698-d85ac71752cb",
   "metadata": {},
   "source": [
    "# Evaluate planing quality"
   ]
  },
  {
   "cell_type": "code",
   "execution_count": 102,
   "id": "d1b1ad7e-d41f-4724-a930-36b3f468d0f1",
   "metadata": {},
   "outputs": [],
   "source": [
    "import pandas as pd\n",
    "import numpy as np\n",
    "import matplotlib.pyplot as plt\n",
    "import matplotlib.ticker as mticker\n",
    "from mpl_toolkits.axes_grid1.anchored_artists import AnchoredSizeBar\n",
    "import matplotlib.font_manager as fm\n",
    "import seaborn as sns\n",
    "from scipy import stats\n",
    "from sklearn import metrics\n",
    "from skimage import segmentation, measure\n",
    "\n",
    "import os\n",
    "import re\n",
    "import glob\n",
    "\n",
    "from skimage import io"
   ]
  },
  {
   "cell_type": "code",
   "execution_count": 2,
   "id": "e8807f40-ffee-48ce-81ba-c22b38470118",
   "metadata": {},
   "outputs": [],
   "source": [
    "root = r'C:\\Users\\johamuel\\Documents\\BiAPoL\\Shared\\BiAPoLprojects\\64_radiographic_workflow\\Planning_user_study'\n",
    "#root = r'E:\\BiAPoL\\Shared\\BiAPoLprojects\\64_radiographic_workflow\\Registration_user_study'\n",
    "#root = r'C:\\Users\\schnei17\\Documents\\PhD\\Paper\\Protonenradiografie\\planning_study\\Planning_user_study'"
   ]
  },
  {
   "cell_type": "code",
   "execution_count": 3,
   "id": "64c29f34-3a2f-460c-84ae-baabce5347e3",
   "metadata": {},
   "outputs": [],
   "source": [
    "anonymize = False\n",
    "save_figures = True"
   ]
  },
  {
   "cell_type": "code",
   "execution_count": 4,
   "id": "d6e3a12e-2907-41c2-994b-83bfe1be8725",
   "metadata": {},
   "outputs": [
    {
     "data": {
      "text/plain": [
       "['P1_H_B6_M52',\n",
       " 'P1_H_B6_M57',\n",
       " 'P1_H_B6_M61',\n",
       " 'P1_H_C3H_M46',\n",
       " 'P1_H_C3H_M48',\n",
       " 'P1_H_C3H_M54',\n",
       " 'P1_H_C3H_M58',\n",
       " 'P2E_M11',\n",
       " 'P2E_M14',\n",
       " 'P2E_M2']"
      ]
     },
     "execution_count": 4,
     "metadata": {},
     "output_type": "execute_result"
    }
   ],
   "source": [
    "animals = os.listdir(root)\n",
    "animals"
   ]
  },
  {
   "cell_type": "markdown",
   "id": "83bb3f1f-7776-42f4-945f-f8fb498cd312",
   "metadata": {},
   "source": [
    "Let's first get an overview of all conducted plans and the respective observer:"
   ]
  },
  {
   "cell_type": "code",
   "execution_count": 26,
   "id": "2cd9e89e-35ac-405e-86ee-8c92b09f9469",
   "metadata": {},
   "outputs": [],
   "source": [
    "plans = {'animal': [], 'observer': [], 'filenames': []}\n",
    "for animal in animals:\n",
    "    filenames = glob.glob(os.path.join(root, animal, '*.tif'))\n",
    "    plans['animal'] += [animal] * len(filenames)\n",
    "    plans['observer'] += [os.path.basename(f).split('_')[0] for f in filenames]\n",
    "    plans['filenames'] += [os.path.basename(f) for f in filenames]\n",
    "\n",
    "plans = pd.DataFrame(plans)"
   ]
  },
  {
   "cell_type": "code",
   "execution_count": 110,
   "id": "e32aa2d3-4305-420c-ba6e-a0c6511221f4",
   "metadata": {},
   "outputs": [],
   "source": [
    "def get_plans(plan_file: str) -> np.ndarray:\n",
    "    \"\"\"Retrieve plan from file\"\"\"\n",
    "    plan = io.imread(plan_file).astype(np.uint16)\n",
    "\n",
    "    plan_index = 0\n",
    "    for z in range(plan.shape[0]):\n",
    "        if len(np.unique(plan[z])) == 3:\n",
    "            plan_index = z\n",
    "    plan = segmentation.relabel_sequential(plan[plan_index])[0]\n",
    "\n",
    "    return plan\n",
    "\n",
    "\n",
    "def fuse_plans(plan_stack: np.ndarray) -> np.ndarray:\n",
    "    \"\"\"Fuse multiple plan files in a stack into a single image using a majority vote approach.\"\"\"\n",
    "    return np.asarray(stats.mode(plan_stack, axis=0))[0].squeeze()\n",
    "\n",
    "\n",
    "def calculate_jaccard_score(plan_stack: np.ndarray, plan_fused: np.ndarray):\n",
    "    \"\"\"Calculate the jaccard score for a stack of plans and a reference fused plan\"\"\"\n",
    "    \n",
    "    JC = []\n",
    "    for idx, plan in enumerate(plan_stack):\n",
    "        JC.append(metrics.jaccard_score(plan_fused.flatten(), plan.flatten(), average=None))\n",
    "    df = pd.DataFrame(JC, columns = [f'JC Label: {i}' for i in range(plan.max() + 1)])    \n",
    "    return df\n",
    "\n",
    "\n",
    "def make_pretty_plan_overlay(stack_of_plans: np.ndarray, fused_plans: np.ndarray):\n",
    "    \"\"\"Make a nice figure to show the hippocampal estimations of different observers compared to their consensus\"\"\"\n",
    "        \n",
    "    sns.set_style(\"white\")\n",
    "    props = measure.regionprops_table(fused_plans, properties=['slice'])\n",
    "\n",
    "    fig, ax = plt.subplots(figsize = (10, 10))\n",
    "    ax.imshow(fused_plans[props['slice'][0]], cmap='gray_r')\n",
    "\n",
    "    for idx, plan in enumerate(stack_of_plans):\n",
    "        sub = plan[props['slice'][0]]\n",
    "        binary = sub == sub.max()\n",
    "        contours = measure.find_contours(binary)\n",
    "        ax.plot(contours[0][:, 1], contours[0][:, 0], linewidth=2, label=f'Hippocampus contour: Observer {idx + 1}')\n",
    "    \n",
    "    ax.legend(fontsize=14)\n",
    "    ax.xaxis.set_ticklabels([])\n",
    "    ax.yaxis.set_ticklabels([])\n",
    "    ax.add_artist(AnchoredSizeBar(ax.transData, 20, '2 mm', 'lower left', \n",
    "                                  pad=0.2, color='black', frameon=True,\n",
    "                                  size_vertical=3, fontproperties=fm.FontProperties(size=14, family='monospace')))\n",
    "    \n",
    "    sub = calculate_jaccard_score(stack_of_plans, fused_plans)\n",
    "    \n",
    "    ax.text(0.95, 0.95, 'Jaccard-coefficient = {:.2f} +/- {:.2f}'.format(sub['JC Label: 2'].mean(), sub['JC Label: 2'].std()), transform=ax.transAxes, horizontalalignment='right',\n",
    "            verticalalignment='top', fontsize=14, bbox={'facecolor': 'white', 'edgecolor': 'black', 'alpha': 0.8})\n",
    "    \n",
    "    return ax\n",
    "    \n",
    "#def calculate_centroid_distance(plan_stack: np.ndarray, plan_fused: np.ndarray):"
   ]
  },
  {
   "cell_type": "markdown",
   "id": "09ead00f-38b0-4798-99ee-b4d359deda2e",
   "metadata": {},
   "source": [
    "## Inter-observer variability\n",
    "\n",
    "We first analyze inter-observer variability. For this, we remove occurrences of repeated plannings of animals by single users. More precisely, if an observer repeated the planning of the same animal multiple times, we keep only the results of the first run."
   ]
  },
  {
   "cell_type": "code",
   "execution_count": 28,
   "id": "002cc9da-958f-4ad5-b280-7f7fa452bded",
   "metadata": {
    "scrolled": true,
    "tags": []
   },
   "outputs": [
    {
     "data": {
      "text/html": [
       "<div>\n",
       "<style scoped>\n",
       "    .dataframe tbody tr th:only-of-type {\n",
       "        vertical-align: middle;\n",
       "    }\n",
       "\n",
       "    .dataframe tbody tr th {\n",
       "        vertical-align: top;\n",
       "    }\n",
       "\n",
       "    .dataframe thead th {\n",
       "        text-align: right;\n",
       "    }\n",
       "</style>\n",
       "<table border=\"1\" class=\"dataframe\">\n",
       "  <thead>\n",
       "    <tr style=\"text-align: right;\">\n",
       "      <th></th>\n",
       "      <th>animal</th>\n",
       "      <th>observer</th>\n",
       "      <th>filenames</th>\n",
       "    </tr>\n",
       "  </thead>\n",
       "  <tbody>\n",
       "    <tr>\n",
       "      <th>0</th>\n",
       "      <td>P1_H_B6_M52</td>\n",
       "      <td>JM</td>\n",
       "      <td>JM_220510_P1_H_B6_M52_Plan.tif</td>\n",
       "    </tr>\n",
       "    <tr>\n",
       "      <th>3</th>\n",
       "      <td>P1_H_B6_M52</td>\n",
       "      <td>MS</td>\n",
       "      <td>MS_P1_H_B6_M52_replanning.tif</td>\n",
       "    </tr>\n",
       "    <tr>\n",
       "      <th>4</th>\n",
       "      <td>P1_H_B6_M52</td>\n",
       "      <td>TS</td>\n",
       "      <td>TS_P1_H_B6_M52_Plan_2022-0505.tif</td>\n",
       "    </tr>\n",
       "    <tr>\n",
       "      <th>5</th>\n",
       "      <td>P1_H_B6_M57</td>\n",
       "      <td>JM</td>\n",
       "      <td>JM_220510_P1_H_B6_M57_Plan.tif</td>\n",
       "    </tr>\n",
       "    <tr>\n",
       "      <th>8</th>\n",
       "      <td>P1_H_B6_M57</td>\n",
       "      <td>MS</td>\n",
       "      <td>MS_P1_H_B6_M57_replanning.tif</td>\n",
       "    </tr>\n",
       "    <tr>\n",
       "      <th>9</th>\n",
       "      <td>P1_H_B6_M57</td>\n",
       "      <td>TS</td>\n",
       "      <td>TS_P1_H_B6_M57_Plan_2022-0505.tif</td>\n",
       "    </tr>\n",
       "    <tr>\n",
       "      <th>10</th>\n",
       "      <td>P1_H_B6_M61</td>\n",
       "      <td>JM</td>\n",
       "      <td>JM_P1_H_B6_M61_Plan_2022-05-24.tif</td>\n",
       "    </tr>\n",
       "    <tr>\n",
       "      <th>11</th>\n",
       "      <td>P1_H_B6_M61</td>\n",
       "      <td>MS</td>\n",
       "      <td>MS_P1_H_B6_M61_replanning.tif</td>\n",
       "    </tr>\n",
       "    <tr>\n",
       "      <th>12</th>\n",
       "      <td>P1_H_B6_M61</td>\n",
       "      <td>TS</td>\n",
       "      <td>TS_P1_H_B6_M61_Plan_2022-05-13.tif</td>\n",
       "    </tr>\n",
       "    <tr>\n",
       "      <th>15</th>\n",
       "      <td>P1_H_C3H_M46</td>\n",
       "      <td>JM</td>\n",
       "      <td>JM_220513_P1_H_B6_M46_Plan.tif</td>\n",
       "    </tr>\n",
       "    <tr>\n",
       "      <th>16</th>\n",
       "      <td>P1_H_C3H_M46</td>\n",
       "      <td>MS</td>\n",
       "      <td>MS_P1_H_C3H_M46_replanning.tif</td>\n",
       "    </tr>\n",
       "    <tr>\n",
       "      <th>19</th>\n",
       "      <td>P1_H_C3H_M46</td>\n",
       "      <td>TS</td>\n",
       "      <td>TS_P1_H_C3H_M46_Plan_2022-0505.tif</td>\n",
       "    </tr>\n",
       "    <tr>\n",
       "      <th>20</th>\n",
       "      <td>P1_H_C3H_M48</td>\n",
       "      <td>JM</td>\n",
       "      <td>JM_220510_P1_H_C3H_M48_Plan.tif</td>\n",
       "    </tr>\n",
       "    <tr>\n",
       "      <th>23</th>\n",
       "      <td>P1_H_C3H_M48</td>\n",
       "      <td>MS</td>\n",
       "      <td>MS_P1_H_C3H_M48_replanning.tif</td>\n",
       "    </tr>\n",
       "    <tr>\n",
       "      <th>24</th>\n",
       "      <td>P1_H_C3H_M48</td>\n",
       "      <td>TS</td>\n",
       "      <td>TS_P1_H_C3H_M48_Plan_2022-0505.tif</td>\n",
       "    </tr>\n",
       "    <tr>\n",
       "      <th>25</th>\n",
       "      <td>P1_H_C3H_M54</td>\n",
       "      <td>JM</td>\n",
       "      <td>JM_220513_P1_H_C3H_M54_Plan.tif</td>\n",
       "    </tr>\n",
       "    <tr>\n",
       "      <th>26</th>\n",
       "      <td>P1_H_C3H_M54</td>\n",
       "      <td>MS</td>\n",
       "      <td>MS_P1_H_C3H_M54_replanning_MS.tif</td>\n",
       "    </tr>\n",
       "    <tr>\n",
       "      <th>27</th>\n",
       "      <td>P1_H_C3H_M54</td>\n",
       "      <td>TS</td>\n",
       "      <td>TS_P1_H_C3H_M54_Plan_2022-05-13.tif</td>\n",
       "    </tr>\n",
       "    <tr>\n",
       "      <th>30</th>\n",
       "      <td>P1_H_C3H_M58</td>\n",
       "      <td>JM</td>\n",
       "      <td>JM_220513_P1_H_C3H_M58_Plan.tif</td>\n",
       "    </tr>\n",
       "    <tr>\n",
       "      <th>31</th>\n",
       "      <td>P1_H_C3H_M58</td>\n",
       "      <td>MS</td>\n",
       "      <td>MS_P1_H_C3H_M58_replanning.tif</td>\n",
       "    </tr>\n",
       "    <tr>\n",
       "      <th>32</th>\n",
       "      <td>P1_H_C3H_M58</td>\n",
       "      <td>TS</td>\n",
       "      <td>TS_P1_H_C3H_M58_Plan_2022-05-13.tif</td>\n",
       "    </tr>\n",
       "    <tr>\n",
       "      <th>35</th>\n",
       "      <td>P2E_M11</td>\n",
       "      <td>JM</td>\n",
       "      <td>JM_220513_P2E_M11_Plan.tif</td>\n",
       "    </tr>\n",
       "    <tr>\n",
       "      <th>36</th>\n",
       "      <td>P2E_M11</td>\n",
       "      <td>MS</td>\n",
       "      <td>MS_P2E_M11_replanning.tif</td>\n",
       "    </tr>\n",
       "    <tr>\n",
       "      <th>37</th>\n",
       "      <td>P2E_M11</td>\n",
       "      <td>TS</td>\n",
       "      <td>TS_P2E_M11_Plan_2022-05-13.tif</td>\n",
       "    </tr>\n",
       "    <tr>\n",
       "      <th>40</th>\n",
       "      <td>P2E_M14</td>\n",
       "      <td>JM</td>\n",
       "      <td>JM_220513_P2E_M14_Plan.tif</td>\n",
       "    </tr>\n",
       "    <tr>\n",
       "      <th>41</th>\n",
       "      <td>P2E_M14</td>\n",
       "      <td>MS</td>\n",
       "      <td>MS_P2E_M14_replanning.tif</td>\n",
       "    </tr>\n",
       "    <tr>\n",
       "      <th>42</th>\n",
       "      <td>P2E_M14</td>\n",
       "      <td>TS</td>\n",
       "      <td>TS_P2E_M14_Plan_2022-05-13.tif</td>\n",
       "    </tr>\n",
       "    <tr>\n",
       "      <th>45</th>\n",
       "      <td>P2E_M2</td>\n",
       "      <td>JM</td>\n",
       "      <td>JM_220513_P2E_M2_Plan.tif</td>\n",
       "    </tr>\n",
       "    <tr>\n",
       "      <th>46</th>\n",
       "      <td>P2E_M2</td>\n",
       "      <td>MS</td>\n",
       "      <td>MS_P2E_M2_replanning.tif</td>\n",
       "    </tr>\n",
       "    <tr>\n",
       "      <th>47</th>\n",
       "      <td>P2E_M2</td>\n",
       "      <td>TS</td>\n",
       "      <td>TS_P2E_M2_Plan_2022-0505.tif</td>\n",
       "    </tr>\n",
       "  </tbody>\n",
       "</table>\n",
       "</div>"
      ],
      "text/plain": [
       "          animal observer                            filenames\n",
       "0    P1_H_B6_M52       JM       JM_220510_P1_H_B6_M52_Plan.tif\n",
       "3    P1_H_B6_M52       MS        MS_P1_H_B6_M52_replanning.tif\n",
       "4    P1_H_B6_M52       TS    TS_P1_H_B6_M52_Plan_2022-0505.tif\n",
       "5    P1_H_B6_M57       JM       JM_220510_P1_H_B6_M57_Plan.tif\n",
       "8    P1_H_B6_M57       MS        MS_P1_H_B6_M57_replanning.tif\n",
       "9    P1_H_B6_M57       TS    TS_P1_H_B6_M57_Plan_2022-0505.tif\n",
       "10   P1_H_B6_M61       JM   JM_P1_H_B6_M61_Plan_2022-05-24.tif\n",
       "11   P1_H_B6_M61       MS        MS_P1_H_B6_M61_replanning.tif\n",
       "12   P1_H_B6_M61       TS   TS_P1_H_B6_M61_Plan_2022-05-13.tif\n",
       "15  P1_H_C3H_M46       JM       JM_220513_P1_H_B6_M46_Plan.tif\n",
       "16  P1_H_C3H_M46       MS       MS_P1_H_C3H_M46_replanning.tif\n",
       "19  P1_H_C3H_M46       TS   TS_P1_H_C3H_M46_Plan_2022-0505.tif\n",
       "20  P1_H_C3H_M48       JM      JM_220510_P1_H_C3H_M48_Plan.tif\n",
       "23  P1_H_C3H_M48       MS       MS_P1_H_C3H_M48_replanning.tif\n",
       "24  P1_H_C3H_M48       TS   TS_P1_H_C3H_M48_Plan_2022-0505.tif\n",
       "25  P1_H_C3H_M54       JM      JM_220513_P1_H_C3H_M54_Plan.tif\n",
       "26  P1_H_C3H_M54       MS    MS_P1_H_C3H_M54_replanning_MS.tif\n",
       "27  P1_H_C3H_M54       TS  TS_P1_H_C3H_M54_Plan_2022-05-13.tif\n",
       "30  P1_H_C3H_M58       JM      JM_220513_P1_H_C3H_M58_Plan.tif\n",
       "31  P1_H_C3H_M58       MS       MS_P1_H_C3H_M58_replanning.tif\n",
       "32  P1_H_C3H_M58       TS  TS_P1_H_C3H_M58_Plan_2022-05-13.tif\n",
       "35       P2E_M11       JM           JM_220513_P2E_M11_Plan.tif\n",
       "36       P2E_M11       MS            MS_P2E_M11_replanning.tif\n",
       "37       P2E_M11       TS       TS_P2E_M11_Plan_2022-05-13.tif\n",
       "40       P2E_M14       JM           JM_220513_P2E_M14_Plan.tif\n",
       "41       P2E_M14       MS            MS_P2E_M14_replanning.tif\n",
       "42       P2E_M14       TS       TS_P2E_M14_Plan_2022-05-13.tif\n",
       "45        P2E_M2       JM            JM_220513_P2E_M2_Plan.tif\n",
       "46        P2E_M2       MS             MS_P2E_M2_replanning.tif\n",
       "47        P2E_M2       TS         TS_P2E_M2_Plan_2022-0505.tif"
      ]
     },
     "execution_count": 28,
     "metadata": {},
     "output_type": "execute_result"
    }
   ],
   "source": [
    "inter_observer = plans.drop_duplicates(subset = ['observer', 'animal'], keep='first')\n",
    "inter_observer"
   ]
  },
  {
   "cell_type": "code",
   "execution_count": 29,
   "id": "1c68c469-fde8-4044-adc1-b32d1eaafde9",
   "metadata": {},
   "outputs": [],
   "source": [
    "for animal in animals:\n",
    "    _plans = inter_observer[inter_observer['animal'] == animal]\n",
    "    plan_data = [get_plans(os.path.join(root, animal, f)) for f in _plans['filenames']]\n",
    "    plan_data = np.stack(plan_data)\n",
    "    \n",
    "    plan_data_fused = fuse_plans(plan_data)\n",
    "    jc = calculate_jaccard_score(plan_data, plan_data_fused)\n",
    "    inter_observer.loc[inter_observer[inter_observer['animal'] == animal].index, jc.columns] = jc.to_numpy()\n",
    "    #print(animal, jc.columns)"
   ]
  },
  {
   "cell_type": "markdown",
   "id": "14151f53-6fb7-4fde-9bf3-e4d8cdae59a7",
   "metadata": {},
   "source": [
    "### Visualization and quantification"
   ]
  },
  {
   "cell_type": "code",
   "execution_count": 31,
   "id": "743a3af0-2d4d-476c-8ed2-5fa270b96244",
   "metadata": {},
   "outputs": [
    {
     "data": {
      "image/png": "[encoded data removed]",
      "text/plain": [
       "<Figure size 411x360 with 1 Axes>"
      ]
     },
     "metadata": {},
     "output_type": "display_data"
    }
   ],
   "source": [
    "sns.set_style(\"whitegrid\")\n",
    "g = sns.catplot(data=inter_observer, x='animal', y='JC Label: 2', hue='observer', kind='swarm')\n",
    "g.set_xticklabels(rotation=90)\n",
    "g.set_xlabels('Experimental animal', fontsize=14)\n",
    "g.set_ylabels('Jaccard coefficient', fontsize=14)\n",
    "g.set(ylim=[0, 1])\n",
    "g.savefig('./figures/Planning_interobserver_variability.png')"
   ]
  },
  {
   "cell_type": "markdown",
   "id": "2e724fa3-ba97-4dfe-b401-d85c7b212e10",
   "metadata": {},
   "source": [
    "Let's calculate the global and animal-wise Jaccard coefficients. For global evaluation, we average the scores for each animal and the calculate the mean of all animal-wise averages. This is allowed since the sample-size for each animal is of the same size so that the results for each evaluation have the same weight."
   ]
  },
  {
   "cell_type": "code",
   "execution_count": 82,
   "id": "95403008-7f85-44e7-ad1e-bcb3b41bcefa",
   "metadata": {},
   "outputs": [
    {
     "name": "stdout",
     "output_type": "stream",
     "text": [
      "Global mean Jaccard index: 0.838348566821174 +/- 0.10206565389254789\n",
      "P1_H_B6_M52 mean Jaccard index: 0.8056438737299962 +/- 0.14780563697282653\n",
      "P1_H_B6_M57 mean Jaccard index: 0.8345325230795702 +/- 0.11118357634184314\n",
      "P1_H_B6_M61 mean Jaccard index: 0.8376042379647511 +/- 0.12279978388145475\n",
      "P1_H_C3H_M46 mean Jaccard index: 0.8802456483435853 +/- 0.028583481509653286\n",
      "P1_H_C3H_M48 mean Jaccard index: 0.8557735924742955 +/- 0.06147855760036852\n",
      "P1_H_C3H_M54 mean Jaccard index: 0.9221359365236689 +/- 0.035877538100708116\n",
      "P1_H_C3H_M58 mean Jaccard index: 0.8249135388827243 +/- 0.11634548013884173\n",
      "P2E_M11 mean Jaccard index: 0.806342367369159 +/- 0.13388903869372165\n",
      "P2E_M14 mean Jaccard index: 0.7502763528142243 +/- 0.17607890001269513\n",
      "P2E_M2 mean Jaccard index: 0.8660175970297624 +/- 0.05980973714316945\n"
     ]
    }
   ],
   "source": [
    "mean = inter_observer['JC Label: 2'].mean()\n",
    "std = inter_observer['JC Label: 2'].std()\n",
    "print(f'Global mean Jaccard index: {mean} +/- {std}')\n",
    "\n",
    "for animal in animals:\n",
    "    sub = inter_observer[inter_observer['animal'] == animal]\n",
    "    mean = sub['JC Label: 2'].mean()\n",
    "    std = sub['JC Label: 2'].std()\n",
    "    print(f'{animal} mean Jaccard index: {mean} +/- {std}')"
   ]
  },
  {
   "cell_type": "code",
   "execution_count": 114,
   "id": "1215ecaa-7822-44c6-9f0d-10285f47bce3",
   "metadata": {},
   "outputs": [
    {
     "data": {
      "image/png": "[encoded data removed]",
      "text/plain": [
       "<Figure size 720x720 with 1 Axes>"
      ]
     },
     "metadata": {},
     "output_type": "display_data"
    },
    {
     "data": {
      "image/png": "[encoded data removed]",
      "text/plain": [
       "<Figure size 720x720 with 1 Axes>"
      ]
     },
     "metadata": {},
     "output_type": "display_data"
    }
   ],
   "source": [
    "for animal in ['P1_H_B6_M61', 'P1_H_C3H_M54']:\n",
    "    sub = inter_observer[inter_observer['animal'] == animal]\n",
    "    plan_data = [get_plans(os.path.join(root, animal, f)) for f in sub['filenames']]\n",
    "    plan_data_fused = fuse_plans(plan_data)\n",
    "\n",
    "    ax = make_pretty_plan_overlay(plan_data, plan_data_fused)\n",
    "    ax.figure.savefig(f'./figures/Planning_contour_overlay_interobserver_{animal}')"
   ]
  },
  {
   "cell_type": "markdown",
   "id": "6e18dd99",
   "metadata": {},
   "source": [
    "## Intra-observer variability\n",
    "\n",
    "We now analyze intra-observer variability."
   ]
  },
  {
   "cell_type": "code",
   "execution_count": null,
   "id": "05810774-07b4-4a04-8ddf-971c5b49932f",
   "metadata": {
    "scrolled": true
   },
   "outputs": [],
   "source": [
    "intra_observer = plans[plans.duplicated(subset = ['observer', 'animal'], keep=False)]\n",
    "intra_observer"
   ]
  },
  {
   "cell_type": "code",
   "execution_count": null,
   "id": "af456155",
   "metadata": {},
   "outputs": [],
   "source": [
    "for animal in animals:\n",
    "    _plans = intra_observer[intra_observer['animal'] == animal]\n",
    "    plan_data = [get_plans(os.path.join(root, animal, f)) for f in _plans['filenames']]\n",
    "    plan_data = np.stack(plan_data)\n",
    "    \n",
    "    plan_data_fused = fuse_plans(plan_data)\n",
    "    jc = calculate_jaccard_score(plan_data, plan_data_fused)\n",
    "    intra_observer.loc[intra_observer[intra_observer['animal'] == animal].index, jc.columns] = jc.to_numpy()\n"
   ]
  },
  {
   "cell_type": "markdown",
   "id": "28cb4101",
   "metadata": {},
   "source": [
    "### Visualization and quantification"
   ]
  },
  {
   "cell_type": "code",
   "execution_count": null,
   "id": "fb8b669a",
   "metadata": {},
   "outputs": [],
   "source": [
    "sns.set_style(\"whitegrid\")\n",
    "g = sns.catplot(data=intra_observer, x='animal', y='JC Label: 2', hue='observer', kind='swarm')\n",
    "g.set_xticklabels(rotation=90)\n",
    "g.set_xlabels('Experimental animal', fontsize=14)\n",
    "g.set_ylabels('Jaccard coefficient', fontsize=14)\n",
    "g.set(ylim=[0, 1])"
   ]
  },
  {
   "cell_type": "code",
   "execution_count": null,
   "id": "78555173",
   "metadata": {},
   "outputs": [],
   "source": [
    "mean = intra_observer['JC Label: 2'].mean()\n",
    "std = intra_observer['JC Label: 2'].std()\n",
    "print(f'Mean Jaccard index: {mean} +/- {std}')"
   ]
  },
  {
   "cell_type": "code",
   "execution_count": null,
   "id": "74bcb853",
   "metadata": {},
   "outputs": [],
   "source": [
    "fig, ax = plt.subplots(ncols = len(plan_data)+1, figsize = (15, 10))\n",
    "[ax[i].imshow(plan) for i, plan in enumerate(plan_data)]\n",
    "[ax[i].set_title(f'Plan {i}') for i in range(len(plan_data))]\n",
    "ax[-1].imshow(plan_data_fused)\n",
    "ax[-1].set_title('Fusion')"
   ]
  },
  {
   "cell_type": "code",
   "execution_count": null,
   "id": "64a8dce3",
   "metadata": {},
   "outputs": [],
   "source": []
  }
 ],
 "metadata": {
  "kernelspec": {
   "display_name": "Python 3 (ipykernel)",
   "language": "python",
   "name": "python3"
  },
  "language_info": {
   "codemirror_mode": {
    "name": "ipython",
    "version": 3
   },
   "file_extension": ".py",
   "mimetype": "text/x-python",
   "name": "python",
   "nbconvert_exporter": "python",
   "pygments_lexer": "ipython3",
   "version": "3.9.12"
  }
 },
 "nbformat": 4,
 "nbformat_minor": 5
}
